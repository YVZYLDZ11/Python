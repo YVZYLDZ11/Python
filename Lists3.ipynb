{
 "cells": [
  {
   "cell_type": "code",
   "execution_count": 2,
   "id": "f587dbd0",
   "metadata": {},
   "outputs": [
    {
     "name": "stdout",
     "output_type": "stream",
     "text": [
      "['audi', 'bmw', 'bugatti', 'ferrari', 'lamborghini', 'mazda', 'mercedes', 'nissan', 'porsche', 'toyota', 'volkswagen']\n"
     ]
    }
   ],
   "source": [
    "mylist = [\"audi\", \"bmw\", \"mercedes\", \"porsche\", \"lamborghini\", \"ferrari\", \"volkswagen\", \"bugatti\", \"toyota\",\"mazda\",\"nissan\"]\n",
    "mylist.sort()\n",
    "print(mylist)"
   ]
  },
  {
   "cell_type": "code",
   "execution_count": 4,
   "id": "4a6748ff",
   "metadata": {},
   "outputs": [
    {
     "name": "stdout",
     "output_type": "stream",
     "text": [
      "[1, 23, 28, 34, 35, 98]\n"
     ]
    }
   ],
   "source": [
    "mylist1 = [34,28,98,1,23,35]\n",
    "mylist1.sort()\n",
    "print(mylist1)"
   ]
  },
  {
   "cell_type": "code",
   "execution_count": 5,
   "id": "18e36285",
   "metadata": {},
   "outputs": [
    {
     "name": "stdout",
     "output_type": "stream",
     "text": [
      "['volkswagen', 'toyota', 'porsche', 'nissan', 'mercedes', 'mazda', 'lamborghini', 'ferrari', 'bugatti', 'bmw', 'audi']\n"
     ]
    }
   ],
   "source": [
    "mylist = [\"audi\", \"bmw\", \"mercedes\", \"porsche\", \"lamborghini\", \"ferrari\", \"volkswagen\", \"bugatti\", \"toyota\",\"mazda\",\"nissan\"]\n",
    "mylist.sort(reverse = True)\n",
    "print(mylist)"
   ]
  },
  {
   "cell_type": "code",
   "execution_count": 6,
   "id": "d2d4305b",
   "metadata": {},
   "outputs": [
    {
     "name": "stdout",
     "output_type": "stream",
     "text": [
      "[50, 65, 23, 82, 100]\n"
     ]
    }
   ],
   "source": [
    "# Sort the list based on how close the number is to 50:\n",
    "def myfunc(n):\n",
    "  return abs(n - 50)\n",
    "\n",
    "mylist = [100, 50, 65, 82, 23]\n",
    "mylist.sort(key = myfunc)\n",
    "print(mylist)"
   ]
  },
  {
   "cell_type": "code",
   "execution_count": 7,
   "id": "b2990aea",
   "metadata": {},
   "outputs": [
    {
     "name": "stdout",
     "output_type": "stream",
     "text": [
      "['Ferrari', 'Mercedes', 'audi', 'bmw', 'bugatti', 'lamborghini', 'mazda', 'nissan', 'porsche', 'toyota', 'volkswagen']\n"
     ]
    }
   ],
   "source": [
    "mylist = [\"audi\", \"bmw\", \"Mercedes\", \"porsche\", \"lamborghini\", \"Ferrari\", \"volkswagen\", \"bugatti\", \"toyota\",\"mazda\",\"nissan\"]\n",
    "mylist.sort()\n",
    "print(mylist)"
   ]
  },
  {
   "cell_type": "code",
   "execution_count": 8,
   "id": "e5b2c210",
   "metadata": {},
   "outputs": [
    {
     "name": "stdout",
     "output_type": "stream",
     "text": [
      "['audi', 'bmw', 'bugatti', 'Ferrari', 'lamborghini', 'mazda', 'Mercedes', 'nissan', 'porsche', 'toyota', 'volkswagen']\n"
     ]
    }
   ],
   "source": [
    "mylist = [\"audi\", \"bmw\", \"Mercedes\", \"porsche\", \"lamborghini\", \"Ferrari\", \"volkswagen\", \"bugatti\", \"toyota\",\"mazda\",\"nissan\"]\n",
    "mylist.sort(key = str.lower)\n",
    "print(mylist)"
   ]
  },
  {
   "cell_type": "code",
   "execution_count": 9,
   "id": "d8838f1d",
   "metadata": {},
   "outputs": [
    {
     "name": "stdout",
     "output_type": "stream",
     "text": [
      "['nissan', 'mazda', 'toyota', 'bugatti', 'volkswagen', 'Ferrari', 'lamborghini', 'porsche', 'Mercedes', 'bmw', 'audi']\n"
     ]
    }
   ],
   "source": [
    "mylist = [\"audi\", \"bmw\", \"Mercedes\", \"porsche\", \"lamborghini\", \"Ferrari\", \"volkswagen\", \"bugatti\", \"toyota\",\"mazda\",\"nissan\"]\n",
    "mylist.reverse()\n",
    "print(mylist)"
   ]
  },
  {
   "cell_type": "code",
   "execution_count": 10,
   "id": "edac7600",
   "metadata": {},
   "outputs": [
    {
     "name": "stdout",
     "output_type": "stream",
     "text": [
      "['nissan', 'mazda', 'toyota', 'bugatti', 'volkswagen', 'Ferrari', 'lamborghini', 'porsche', 'Mercedes', 'bmw', 'audi']\n"
     ]
    }
   ],
   "source": [
    "# Reverse the order of the list items:\n",
    "mylist = [\"audi\", \"bmw\", \"Mercedes\", \"porsche\", \"lamborghini\", \"Ferrari\", \"volkswagen\", \"bugatti\", \"toyota\",\"mazda\",\"nissan\"]\n",
    "mylist.reverse()\n",
    "print(mylist)"
   ]
  },
  {
   "cell_type": "code",
   "execution_count": 11,
   "id": "36426849",
   "metadata": {},
   "outputs": [
    {
     "name": "stdout",
     "output_type": "stream",
     "text": [
      "['audi', 'bmw', 'Mercedes', 'porsche', 'lamborghini', 'Ferrari', 'volkswagen', 'bugatti', 'toyota', 'mazda', 'nissan']\n"
     ]
    }
   ],
   "source": [
    "mylist = [\"audi\", \"bmw\", \"Mercedes\", \"porsche\", \"lamborghini\", \"Ferrari\", \"volkswagen\", \"bugatti\", \"toyota\",\"mazda\",\"nissan\"]\n",
    "mylist1 = mylist.copy()\n",
    "print(mylist1)"
   ]
  },
  {
   "cell_type": "code",
   "execution_count": null,
   "id": "c78f5d6a",
   "metadata": {},
   "outputs": [],
   "source": [
    "mylist = [\"audi\", \"bmw\", \"Mercedes\", \"porsche\", \"lamborghini\", \"Ferrari\", \"volkswagen\", \"bugatti\", \"toyota\",\"mazda\",\"nissan\"]\n",
    "mylist1 = list(mylist)\n",
    "print(mylist1)"
   ]
  }
 ],
 "metadata": {
  "kernelspec": {
   "display_name": "Python 3 (ipykernel)",
   "language": "python",
   "name": "python3"
  },
  "language_info": {
   "codemirror_mode": {
    "name": "ipython",
    "version": 3
   },
   "file_extension": ".py",
   "mimetype": "text/x-python",
   "name": "python",
   "nbconvert_exporter": "python",
   "pygments_lexer": "ipython3",
   "version": "3.10.9"
  }
 },
 "nbformat": 4,
 "nbformat_minor": 5
}
