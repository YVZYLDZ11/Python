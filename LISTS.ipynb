{
 "cells": [
  {
   "cell_type": "code",
   "execution_count": 4,
   "id": "d5c2098d",
   "metadata": {},
   "outputs": [
    {
     "name": "stdout",
     "output_type": "stream",
     "text": [
      "3\n"
     ]
    }
   ],
   "source": [
    "mylist = [\"audi\", \"bmw\", \"mercedes\"]\n",
    "print(len(mylist))"
   ]
  },
  {
   "cell_type": "code",
   "execution_count": 9,
   "id": "fb6be03e",
   "metadata": {},
   "outputs": [],
   "source": [
    "list1 = (\"abc\", 50, True, \"hjk\", False)"
   ]
  },
  {
   "cell_type": "code",
   "execution_count": 6,
   "id": "f8980446",
   "metadata": {},
   "outputs": [
    {
     "name": "stdout",
     "output_type": "stream",
     "text": [
      "['abc', 50, True, 'hjk', False]\n"
     ]
    }
   ],
   "source": [
    "print(list1)"
   ]
  },
  {
   "cell_type": "code",
   "execution_count": 8,
   "id": "bf185eb0",
   "metadata": {},
   "outputs": [
    {
     "name": "stdout",
     "output_type": "stream",
     "text": [
      "<class 'list'>\n"
     ]
    }
   ],
   "source": [
    "print(type(mylist))"
   ]
  },
  {
   "cell_type": "code",
   "execution_count": 10,
   "id": "4d0797a1",
   "metadata": {},
   "outputs": [
    {
     "name": "stdout",
     "output_type": "stream",
     "text": [
      "<class 'tuple'>\n"
     ]
    }
   ],
   "source": [
    "print(type(list1))"
   ]
  },
  {
   "cell_type": "code",
   "execution_count": 11,
   "id": "98cd5aa4",
   "metadata": {},
   "outputs": [],
   "source": [
    "mylist1 = list((\"istanbul\", \"london\", \"helsinki\")) # > (()) = [] "
   ]
  },
  {
   "cell_type": "code",
   "execution_count": 12,
   "id": "2310a3f8",
   "metadata": {},
   "outputs": [
    {
     "name": "stdout",
     "output_type": "stream",
     "text": [
      "['istanbul', 'london', 'helsinki']\n"
     ]
    }
   ],
   "source": [
    "print(mylist1)"
   ]
  },
  {
   "cell_type": "code",
   "execution_count": 14,
   "id": "de5430de",
   "metadata": {},
   "outputs": [
    {
     "name": "stdout",
     "output_type": "stream",
     "text": [
      "bmw\n"
     ]
    }
   ],
   "source": [
    "mylist = [\"audi\", \"bmw\", \"mercedes\", \"lamborghini\", \"ferrari\", \"volkswagen\"]\n",
    "print(mylist[1])"
   ]
  },
  {
   "cell_type": "code",
   "execution_count": 16,
   "id": "a7583728",
   "metadata": {},
   "outputs": [
    {
     "name": "stdout",
     "output_type": "stream",
     "text": [
      "['mercedes', 'lamborghini', 'ferrari']\n"
     ]
    }
   ],
   "source": [
    "print(mylist[2:5])"
   ]
  },
  {
   "cell_type": "code",
   "execution_count": 17,
   "id": "1806b68e",
   "metadata": {},
   "outputs": [
    {
     "name": "stdout",
     "output_type": "stream",
     "text": [
      "['audi', 'bmw', 'mercedes', 'lamborghini']\n"
     ]
    }
   ],
   "source": [
    "print(mylist[:4])"
   ]
  },
  {
   "cell_type": "code",
   "execution_count": 18,
   "id": "cde8723a",
   "metadata": {},
   "outputs": [
    {
     "name": "stdout",
     "output_type": "stream",
     "text": [
      "['mercedes', 'lamborghini', 'ferrari', 'volkswagen']\n"
     ]
    }
   ],
   "source": [
    "print(mylist[2:])"
   ]
  },
  {
   "cell_type": "code",
   "execution_count": 19,
   "id": "fbf3cb50",
   "metadata": {},
   "outputs": [
    {
     "name": "stdout",
     "output_type": "stream",
     "text": [
      "['lamborghini', 'ferrari']\n"
     ]
    }
   ],
   "source": [
    "print(mylist[-3:-1])"
   ]
  },
  {
   "cell_type": "code",
   "execution_count": 22,
   "id": "86d934ba",
   "metadata": {},
   "outputs": [
    {
     "name": "stdout",
     "output_type": "stream",
     "text": [
      "Yes, 'mercedes' is in the car list\n"
     ]
    }
   ],
   "source": [
    "mylist = [\"audi\", \"bmw\", \"mercedes\", \"lamborghini\", \"ferrari\", \"volkswagen\"]\n",
    "if \"mercedes\" in mylist:\n",
    "    print(\"Yes, 'mercedes' is in the car list\")"
   ]
  },
  {
   "cell_type": "code",
   "execution_count": 29,
   "id": "0e00573a",
   "metadata": {},
   "outputs": [
    {
     "name": "stdout",
     "output_type": "stream",
     "text": [
      "No, 'toyota' isn't in the car list\n"
     ]
    }
   ],
   "source": [
    "mylist = [\"audi\", \"bmw\", \"mercedes\", \"lamborghini\", \"ferrari\"]\n",
    "if \"volswagen\" in mylist:\n",
    "    print(\"Yes, 'mercedes' is in the car list\")\n",
    "elif \"subaru\" in mylist:\n",
    "    print(\"Yes, 'lamborghini' is in the car list\")\n",
    "else:\n",
    "    print(\"No, 'toyota' isn't in the car list\")"
   ]
  },
  {
   "cell_type": "code",
   "execution_count": 30,
   "id": "2d1092a9",
   "metadata": {},
   "outputs": [
    {
     "name": "stdout",
     "output_type": "stream",
     "text": [
      "['audi', 'toyota', 'mercedes', 'lamborghini', 'ferrari']\n"
     ]
    }
   ],
   "source": [
    "mylist = [\"audi\", \"bmw\", \"mercedes\", \"lamborghini\", \"ferrari\"]\n",
    "mylist[1] = \"toyota\"\n",
    "print(mylist)"
   ]
  },
  {
   "cell_type": "code",
   "execution_count": 32,
   "id": "3221187e",
   "metadata": {},
   "outputs": [
    {
     "name": "stdout",
     "output_type": "stream",
     "text": [
      "['audi', 'mazda', 'chevrolet', 'z', 'd', 'a', 'lamborghini', 'ferrari']\n"
     ]
    }
   ],
   "source": [
    "mylist[1:3]= [\"mazda\", \"chevrolet\"]\n",
    "print(mylist)"
   ]
  },
  {
   "cell_type": "code",
   "execution_count": 33,
   "id": "5ebfa301",
   "metadata": {},
   "outputs": [
    {
     "data": {
      "text/plain": [
       "['audi', 'mazda', 'chevrolet', 'z', 'd', 'a', 'lamborghini', 'ferrari']"
      ]
     },
     "execution_count": 33,
     "metadata": {},
     "output_type": "execute_result"
    }
   ],
   "source": [
    "mylist"
   ]
  },
  {
   "cell_type": "code",
   "execution_count": 34,
   "id": "461089cb",
   "metadata": {},
   "outputs": [
    {
     "name": "stdout",
     "output_type": "stream",
     "text": [
      "['audi', 'bmw', 'mercedes', 'lamborghini', 'ferrari', 'volkswagen']\n"
     ]
    }
   ],
   "source": [
    "mylist = [\"audi\", \"bmw\", \"mercedes\", \"lamborghini\", \"ferrari\", \"volkswagen\"]\n",
    "print(mylist)"
   ]
  },
  {
   "cell_type": "code",
   "execution_count": 35,
   "id": "8b0b585a",
   "metadata": {},
   "outputs": [],
   "source": [
    "mylist.insert(3, \"porsche\")"
   ]
  },
  {
   "cell_type": "code",
   "execution_count": 36,
   "id": "4f7d322f",
   "metadata": {},
   "outputs": [
    {
     "name": "stdout",
     "output_type": "stream",
     "text": [
      "['audi', 'bmw', 'mercedes', 'porsche', 'lamborghini', 'ferrari', 'volkswagen']\n"
     ]
    }
   ],
   "source": [
    "print(mylist)"
   ]
  },
  {
   "cell_type": "code",
   "execution_count": 37,
   "id": "5f13f33d",
   "metadata": {},
   "outputs": [
    {
     "data": {
      "text/plain": [
       "['audi', 'bmw', 'mercedes', 'porsche', 'lamborghini', 'ferrari', 'volkswagen']"
      ]
     },
     "execution_count": 37,
     "metadata": {},
     "output_type": "execute_result"
    }
   ],
   "source": [
    "mylist"
   ]
  },
  {
   "cell_type": "code",
   "execution_count": 38,
   "id": "d45d56c9",
   "metadata": {},
   "outputs": [],
   "source": [
    "mylist.append(\"bugatti\")"
   ]
  },
  {
   "cell_type": "code",
   "execution_count": 39,
   "id": "3cd12a52",
   "metadata": {},
   "outputs": [
    {
     "name": "stdout",
     "output_type": "stream",
     "text": [
      "['audi', 'bmw', 'mercedes', 'porsche', 'lamborghini', 'ferrari', 'volkswagen', 'bugatti']\n"
     ]
    }
   ],
   "source": [
    "print(mylist)"
   ]
  },
  {
   "cell_type": "code",
   "execution_count": 41,
   "id": "470cbce8",
   "metadata": {},
   "outputs": [
    {
     "name": "stdout",
     "output_type": "stream",
     "text": [
      "['audi', 'bmw', 'mercedes', 'porsche', 'lamborghini', 'ferrari', 'volkswagen', 'bugatti', 'toyota', 'mazda', 'nissan']\n"
     ]
    }
   ],
   "source": [
    "mylist = [\"audi\", \"bmw\", \"mercedes\", \"porsche\", \"lamborghini\", \"ferrari\", \"volkswagen\", \"bugatti\"]\n",
    "mylist1 = [\"toyota\",\"mazda\",\"nissan\"]\n",
    "mylist.extend(mylist1)\n",
    "print(mylist)"
   ]
  },
  {
   "cell_type": "code",
   "execution_count": 42,
   "id": "7c6a17a6",
   "metadata": {},
   "outputs": [
    {
     "name": "stdout",
     "output_type": "stream",
     "text": [
      "['audi', 'bmw', 'mercedes', 'porsche', 'lamborghini', 'ferrari', 'volkswagen', 'toyota', 'mazda', 'nissan']\n"
     ]
    }
   ],
   "source": [
    "mylist = [\"audi\", \"bmw\", \"mercedes\", \"porsche\", \"lamborghini\", \"ferrari\", \"volkswagen\", \"bugatti\", \"toyota\",\"mazda\",\"nissan\"]\n",
    "mylist.remove(\"bugatti\")\n",
    "print(mylist)"
   ]
  },
  {
   "cell_type": "code",
   "execution_count": 43,
   "id": "367905fa",
   "metadata": {},
   "outputs": [
    {
     "name": "stdout",
     "output_type": "stream",
     "text": [
      "['audi', 'bmw', 'mercedes', 'porsche', 'lamborghini', 'ferrari', 'bugatti', 'toyota', 'mazda', 'nissan']\n"
     ]
    }
   ],
   "source": [
    "mylist = [\"audi\", \"bmw\", \"mercedes\", \"porsche\", \"lamborghini\", \"ferrari\", \"volkswagen\", \"bugatti\", \"toyota\",\"mazda\",\"nissan\"]\n",
    "mylist.pop(6)\n",
    "print(mylist)"
   ]
  },
  {
   "cell_type": "code",
   "execution_count": 44,
   "id": "379b09f0",
   "metadata": {},
   "outputs": [],
   "source": [
    "#del mylist[index]\n",
    "#del mylist > can also delete the list completely\n",
    "#mylist.clear() > empties the list. the list still remains but it has no content  "
   ]
  },
  {
   "cell_type": "code",
   "execution_count": null,
   "id": "9d6100cc",
   "metadata": {},
   "outputs": [],
   "source": []
  }
 ],
 "metadata": {
  "kernelspec": {
   "display_name": "Python 3 (ipykernel)",
   "language": "python",
   "name": "python3"
  },
  "language_info": {
   "codemirror_mode": {
    "name": "ipython",
    "version": 3
   },
   "file_extension": ".py",
   "mimetype": "text/x-python",
   "name": "python",
   "nbconvert_exporter": "python",
   "pygments_lexer": "ipython3",
   "version": "3.10.9"
  }
 },
 "nbformat": 4,
 "nbformat_minor": 5
}
